{
  "nbformat": 4,
  "nbformat_minor": 0,
  "metadata": {
    "kernelspec": {
      "display_name": "Python 3",
      "language": "python",
      "name": "python3"
    },
    "language_info": {
      "codemirror_mode": {
        "name": "ipython",
        "version": 3
      },
      "file_extension": ".py",
      "mimetype": "text/x-python",
      "name": "python",
      "nbconvert_exporter": "python",
      "pygments_lexer": "ipython3",
      "version": "3.7.2"
    },
    "colab": {
      "name": "02-knn.ipynb",
      "provenance": [],
      "collapsed_sections": [],
      "include_colab_link": true
    }
  },
  "cells": [
    {
      "cell_type": "markdown",
      "metadata": {
        "id": "view-in-github",
        "colab_type": "text"
      },
      "source": [
        "<a href=\"https://colab.research.google.com/github/ihamzak/books-genre-classification/blob/master/knn.ipynb\" target=\"_parent\"><img src=\"https://colab.research.google.com/assets/colab-badge.svg\" alt=\"Open In Colab\"/></a>"
      ]
    },
    {
      "cell_type": "markdown",
      "metadata": {
        "id": "E4yVvmnL-V9N",
        "colab_type": "text"
      },
      "source": [
        "Before we start, run the code cell below for a nicer layout."
      ]
    },
    {
      "cell_type": "code",
      "metadata": {
        "id": "yGv99wam-V9R",
        "colab_type": "code",
        "outputId": "9f55f9c4-a345-4343-b97f-dbefbca1340e",
        "colab": {
          "base_uri": "https://localhost:8080/",
          "height": 17
        }
      },
      "source": [
        "%%html\n",
        "<style>\n",
        "h1 { margin-top: 3em !important; }\n",
        "h2 { margin-top: 2em !important; }\n",
        "#notebook-container { \n",
        "    width: 50% !important; \n",
        "    min-width: 800px;\n",
        "}\n",
        "</style>"
      ],
      "execution_count": 0,
      "outputs": [
        {
          "output_type": "display_data",
          "data": {
            "text/html": [
              "<style>\n",
              "h1 { margin-top: 3em !important; }\n",
              "h2 { margin-top: 2em !important; }\n",
              "#notebook-container { \n",
              "    width: 50% !important; \n",
              "    min-width: 800px;\n",
              "}\n",
              "</style>"
            ],
            "text/plain": [
              "<IPython.core.display.HTML object>"
            ]
          },
          "metadata": {
            "tags": []
          }
        }
      ]
    },
    {
      "cell_type": "markdown",
      "metadata": {
        "id": "F2NbHUo3-V9W",
        "colab_type": "text"
      },
      "source": [
        "<h1>Book classifications with kNN</h1>\n",
        "\n",
        "\n",
        "There is a related task in data analysis: the <i>classification</i> of data according using an already existing dataset. The <i>classes</i> in our dataset are the six genres (fantasy, sci-fi, comics, horror, romance, history) and the <i>features</i> are the ratings. The classification task in our case can be summarized as follows:\n",
        "\n",
        "> Given a rating pair (`old`,`young`) of a book that is not in our database, decide a genre classification using the existing dataset.\n",
        "\n",
        "Again, the notion of a <i>distance</i> or <i>metric</i> is the key to solve this task: the idea is that we can deduce the genre of a book by looking at books that have similar (close) ratings. Let us call the\n",
        "book whose genre we want to determine the <i>query</i>. A $k$NN-classifier finds the $k$ points closest of the query and decides the label (genre) of the query depending on the labels (genres) it sees among those $k$ entries of our dataset. The simplest decision algorithm here is a <b>majority vote</b>: we assign the genre that appears the most time among those $k$ neighbours.\n",
        "\n",
        "The task in the notebook is to implement this kind of classifier!\n",
        "\n",
        "Let's load the dataset first:"
      ]
    },
    {
      "cell_type": "code",
      "metadata": {
        "id": "t367Sshr-bq9",
        "colab_type": "code",
        "outputId": "3def5c30-7280-49ec-ae78-b0fca6ccd9ac",
        "colab": {
          "base_uri": "https://localhost:8080/",
          "height": 34
        }
      },
      "source": [
        "from google.colab import drive \n",
        "\n",
        "drive.mount('/content/drive')\n"
      ],
      "execution_count": 0,
      "outputs": [
        {
          "output_type": "stream",
          "text": [
            "Mounted at /content/drive\n"
          ],
          "name": "stdout"
        }
      ]
    },
    {
      "cell_type": "code",
      "metadata": {
        "id": "wOj4B7Pf-V9X",
        "colab_type": "code",
        "outputId": "69d3d6ab-0ecd-49bc-caa4-c812b424874a",
        "colab": {
          "base_uri": "https://localhost:8080/",
          "height": 204
        }
      },
      "source": [
        "\n",
        "import pandas as pd \n",
        "books = pd.read_csv('/content/drive/My Drive/02-resources/books.csv')\n",
        "books.head()"
      ],
      "execution_count": 0,
      "outputs": [
        {
          "output_type": "execute_result",
          "data": {
            "text/html": [
              "<div>\n",
              "<style scoped>\n",
              "    .dataframe tbody tr th:only-of-type {\n",
              "        vertical-align: middle;\n",
              "    }\n",
              "\n",
              "    .dataframe tbody tr th {\n",
              "        vertical-align: top;\n",
              "    }\n",
              "\n",
              "    .dataframe thead th {\n",
              "        text-align: right;\n",
              "    }\n",
              "</style>\n",
              "<table border=\"1\" class=\"dataframe\">\n",
              "  <thead>\n",
              "    <tr style=\"text-align: right;\">\n",
              "      <th></th>\n",
              "      <th>Unnamed: 0</th>\n",
              "      <th>author</th>\n",
              "      <th>title</th>\n",
              "      <th>genre</th>\n",
              "      <th>isbn</th>\n",
              "      <th>old</th>\n",
              "      <th>young</th>\n",
              "    </tr>\n",
              "  </thead>\n",
              "  <tbody>\n",
              "    <tr>\n",
              "      <th>0</th>\n",
              "      <td>0</td>\n",
              "      <td>Aaron Stephens</td>\n",
              "      <td>The secret of the azure orcs</td>\n",
              "      <td>fantasy</td>\n",
              "      <td>0-560-22625-X</td>\n",
              "      <td>35</td>\n",
              "      <td>40</td>\n",
              "    </tr>\n",
              "    <tr>\n",
              "      <th>1</th>\n",
              "      <td>1</td>\n",
              "      <td>Laura Lambert</td>\n",
              "      <td>War of the crimson comets</td>\n",
              "      <td>sci-fi</td>\n",
              "      <td>0-477-61096-X</td>\n",
              "      <td>6</td>\n",
              "      <td>43</td>\n",
              "    </tr>\n",
              "    <tr>\n",
              "      <th>2</th>\n",
              "      <td>2</td>\n",
              "      <td>Jessica Johnson</td>\n",
              "      <td>The amazing Bug-Man</td>\n",
              "      <td>comics</td>\n",
              "      <td>1-82415-269-8</td>\n",
              "      <td>5</td>\n",
              "      <td>88</td>\n",
              "    </tr>\n",
              "    <tr>\n",
              "      <th>3</th>\n",
              "      <td>3</td>\n",
              "      <td>Keith Jones</td>\n",
              "      <td>The poltergeist will come back</td>\n",
              "      <td>horror</td>\n",
              "      <td>0-212-12934-1</td>\n",
              "      <td>26</td>\n",
              "      <td>22</td>\n",
              "    </tr>\n",
              "    <tr>\n",
              "      <th>4</th>\n",
              "      <td>4</td>\n",
              "      <td>Megan Jones</td>\n",
              "      <td>October roses</td>\n",
              "      <td>romance</td>\n",
              "      <td>1-397-92386-5</td>\n",
              "      <td>62</td>\n",
              "      <td>51</td>\n",
              "    </tr>\n",
              "  </tbody>\n",
              "</table>\n",
              "</div>"
            ],
            "text/plain": [
              "   Unnamed: 0           author  ... old young\n",
              "0           0   Aaron Stephens  ...  35    40\n",
              "1           1    Laura Lambert  ...   6    43\n",
              "2           2  Jessica Johnson  ...   5    88\n",
              "3           3      Keith Jones  ...  26    22\n",
              "4           4      Megan Jones  ...  62    51\n",
              "\n",
              "[5 rows x 7 columns]"
            ]
          },
          "metadata": {
            "tags": []
          },
          "execution_count": 13
        }
      ]
    },
    {
      "cell_type": "markdown",
      "metadata": {
        "id": "hQeNObCJ-V9b",
        "colab_type": "text"
      },
      "source": [
        "We will again use the Euclidean distance between book ratings. "
      ]
    },
    {
      "cell_type": "code",
      "metadata": {
        "id": "Ov14q_52-V9d",
        "colab_type": "code",
        "colab": {}
      },
      "source": [
        "# Put your implementation of `rating_dist` here and run the cell\n",
        "import math\n",
        "def  rating_dist(ratingA,ratingB):\n",
        "  dist =  0\n",
        "  for i,j in zip(ratingA,ratingB):\n",
        "    dist += pow((j-i),2)\n",
        "  return  math.sqrt(dist)"
      ],
      "execution_count": 0,
      "outputs": []
    },
    {
      "cell_type": "markdown",
      "metadata": {
        "id": "rBqI3sgS-V9h",
        "colab_type": "text"
      },
      "source": [
        "Let us first implement a few useful methods to work with the `books` dataset. For simplicity we reference `books` as a global variable and do not pass it as a parameter to the function.\n",
        "\n",
        "> Implement a method `find_genres(...)` that takes a list of indices and\n",
        "returns the genres of each index in a list.\n",
        "\n",
        "Your implementation should pass the tests in the subsequent cell."
      ]
    },
    {
      "cell_type": "code",
      "metadata": {
        "id": "DKzxv8OV_sDm",
        "colab_type": "code",
        "outputId": "52ff6629-5605-416a-cd46-0ddbe55d4fea",
        "colab": {
          "base_uri": "https://localhost:8080/",
          "height": 67
        }
      },
      "source": [
        "books.loc[1][['old','young']]"
      ],
      "execution_count": 0,
      "outputs": [
        {
          "output_type": "execute_result",
          "data": {
            "text/plain": [
              "old       6\n",
              "young    43\n",
              "Name: 1, dtype: object"
            ]
          },
          "metadata": {
            "tags": []
          },
          "execution_count": 5
        }
      ]
    },
    {
      "cell_type": "code",
      "metadata": {
        "id": "iySAyNXp-V9i",
        "colab_type": "code",
        "colab": {}
      },
      "source": [
        "def find_genres(indices):\n",
        "    \"\"\" Return the genres of the books corresponding to the\n",
        "    indices in the `books` database. \"\"\"\n",
        "    return  list(books.genre.loc[indices])\n"
      ],
      "execution_count": 0,
      "outputs": []
    },
    {
      "cell_type": "code",
      "metadata": {
        "id": "YG17ZhdH-V9m",
        "colab_type": "code",
        "outputId": "f15ff3fb-23c6-4a9e-ee96-8e3e0dbc9b58",
        "colab": {
          "base_uri": "https://localhost:8080/",
          "height": 34
        }
      },
      "source": [
        "assert find_genres([0,1,2]) == ['fantasy', 'sci-fi', 'comics']\n",
        "assert find_genres([42,144,50]) == ['history', 'romance', 'comics']\n",
        "''.join([chr(ord(s)-1) for s in 'Fwfszuijoh(t!gjof'])"
      ],
      "execution_count": 0,
      "outputs": [
        {
          "output_type": "execute_result",
          "data": {
            "text/plain": [
              "\"Everything's fine\""
            ]
          },
          "metadata": {
            "tags": []
          },
          "execution_count": 7
        }
      ]
    },
    {
      "cell_type": "markdown",
      "metadata": {
        "id": "S1017YFo-V9u",
        "colab_type": "text"
      },
      "source": [
        "As a first step, we implement a function that returns the $k$ nearest neighbours to a given query. This is similar to what you implemented in Task 5 of `02-functions.ipynb`, however, the query is a whole row of `books` (not just the rating). You should first figure out how to extract the ratings from the row.\n",
        "\n",
        "> Implement the method `neighbours(...)` in the cell below. The exact functionality is described in the comment."
      ]
    },
    {
      "cell_type": "code",
      "metadata": {
        "id": "Qrx6A_xQ-V9v",
        "colab_type": "code",
        "outputId": "174f2626-7a8d-4c7b-8dff-d72a816566be",
        "colab": {
          "base_uri": "https://localhost:8080/",
          "height": 101
        }
      },
      "source": [
        "def neighbours(rating, k):\n",
        "    \"\"\"\n",
        "        Returns the k nearest neighbours of the query `rating` as\n",
        "        a list of tupels (dist, i) where i is the index of the \n",
        "        corresponding row in `books` and dist is the computed distance\n",
        "        to the query.\n",
        "        The list is sorted by the first entry of the tuple \n",
        "        (from near to far).\n",
        "    \"\"\"\n",
        "    dic = []\n",
        "    for i in books.index:\n",
        "      #dic[i] = rating_dist(rating,books.iloc[i][['old','young']])\n",
        "      s= (rating_dist(rating,books.iloc[i][['old','young']]),i)\n",
        "      dic.append(s)\n",
        "    \n",
        "    #sortedDic=  sorted(dic.items(),key= lambda x:x[1])\n",
        "    #return sortedDic[:k]\n",
        "    d= sorted(dic)\n",
        "    return d[:k]\n",
        "    \n",
        "      \n",
        "neighbours((30,30),5)  \n",
        "\n"
      ],
      "execution_count": 0,
      "outputs": [
        {
          "output_type": "execute_result",
          "data": {
            "text/plain": [
              "[(1.0, 241),\n",
              " (1.4142135623730951, 186),\n",
              " (2.0, 334),\n",
              " (2.23606797749979, 58),\n",
              " (2.23606797749979, 170)]"
            ]
          },
          "metadata": {
            "tags": []
          },
          "execution_count": 8
        }
      ]
    },
    {
      "cell_type": "code",
      "metadata": {
        "id": "djhhDR09-V9z",
        "colab_type": "code",
        "colab": {}
      },
      "source": [
        "res = neighbours(books.loc[1][['old','young']], 10)\n",
        "assert find_genres([i for _,i in res]) == ['sci-fi']*10\n",
        "\n",
        "res = neighbours((30,30), 5)\n",
        "assert find_genres([i for _,i in res]) == ['fantasy', 'fantasy', 'sci-fi', 'fantasy', 'horror']"
      ],
      "execution_count": 0,
      "outputs": []
    },
    {
      "cell_type": "code",
      "metadata": {
        "id": "gQ_E159CC8Zd",
        "colab_type": "code",
        "outputId": "499fd21c-0419-48da-a0ab-0b1f6b0c1c55",
        "colab": {
          "base_uri": "https://localhost:8080/",
          "height": 34
        }
      },
      "source": [
        "set(books.loc[1][['old','young']]), set(books.loc[1][['old','young']])"
      ],
      "execution_count": 0,
      "outputs": [
        {
          "output_type": "execute_result",
          "data": {
            "text/plain": [
              "({6, 43}, {6, 43})"
            ]
          },
          "metadata": {
            "tags": []
          },
          "execution_count": 10
        }
      ]
    },
    {
      "cell_type": "markdown",
      "metadata": {
        "id": "CorDpO2g-V92",
        "colab_type": "text"
      },
      "source": [
        "Now can put the pieces together: for a given query, we can compute the $k$ nearest neighbours and compute return the genre that appears the most among those neighbours.\n",
        "\n",
        "> Implement the function `classify_majority` according to the specification in the comment below."
      ]
    },
    {
      "cell_type": "code",
      "metadata": {
        "id": "FxPmtxyN-V93",
        "colab_type": "code",
        "outputId": "1f9b69aa-eac4-4013-9d26-93f40589cb81",
        "colab": {
          "base_uri": "https://localhost:8080/",
          "height": 34
        }
      },
      "source": [
        "from collections import Counter\n",
        "\n",
        "def classify_majority(query, k):\n",
        "    \"\"\"\n",
        "        Returns the majority genre among the k nearest neighbours\n",
        "        of `query`. The parameter `query` contains the `old` rating\n",
        "        in the first coordinate `query[0]` and the `young` rating\n",
        "        in the second coordinate `query[1]`.\n",
        "    \"\"\"\n",
        "    genres=[]\n",
        "    l=neighbours(query,k)\n",
        "    for i,j in enumerate(l):\n",
        "      genres.append(books.loc[l[i][1]]['genre'])\n",
        "    c= Counter(genres).most_common(1)[0][0]\n",
        "\n",
        "    return c\n",
        "    #pass\n",
        "classify_majority((30,30),5)"
      ],
      "execution_count": 0,
      "outputs": [
        {
          "output_type": "execute_result",
          "data": {
            "text/plain": [
              "'fantasy'"
            ]
          },
          "metadata": {
            "tags": []
          },
          "execution_count": 11
        }
      ]
    },
    {
      "cell_type": "markdown",
      "metadata": {
        "id": "ZVxDGE4j-V98",
        "colab_type": "text"
      },
      "source": [
        "If you completed the implementation of `classify_majority`, the next cell will output a coloured plot of the books (small plus-shaped markers) alongside a set of queries (big round markers) as classified by your implementation. Try changing the queries\n",
        "and the value of `k` and see how the plot changes."
      ]
    },
    {
      "cell_type": "code",
      "metadata": {
        "id": "_M2e3GA4-V9_",
        "colab_type": "code",
        "outputId": "1554168c-7a6e-4db4-88b7-be2abf98d559",
        "colab": {
          "base_uri": "https://localhost:8080/",
          "height": 487
        }
      },
      "source": [
        "import matplotlib.pyplot as plt\n",
        "\n",
        "queries = [(20,20), (50,30), (25,60), (25,62), (58,25), (80, 50),(10,45),(47,37)]\n",
        "k = 2\n",
        "\n",
        "fig, ax = plt.subplots(figsize=(8,8))\n",
        "\n",
        "genres = list(books['genre'].unique())\n",
        "colors = \"#cb4b16;#dc322f;#859900;#6c71c4;#268bd2;#2aa198;\".split(';')\n",
        "colmap = dict(zip(genres, colors))\n",
        "for genre, col in colmap.items():\n",
        "    sub = books[books['genre'] == genre]\n",
        "    ax.scatter(sub['old'], sub['young'], label=genre, marker='+', color=col, s=20)\n",
        "    \n",
        "for q in queries:\n",
        "    genre = classify_majority(q, k)\n",
        "    ax.scatter([q[0]], [q[1]], color=colmap[genre], marker='*', s=100)\n",
        "    \n",
        "ax.set_xlim(0,100)\n",
        "ax.set_ylim(0,100)\n",
        "ax.legend()\n",
        "plt.show()"
      ],
      "execution_count": 0,
      "outputs": [
        {
          "output_type": "display_data",
          "data": {
            "image/png": "[encoded data removed]",
            "text/plain": [
              "<Figure size 576x576 with 1 Axes>"
            ]
          },
          "metadata": {
            "tags": [],
            "needs_background": "light"
          }
        }
      ]
    },
    {
      "cell_type": "code",
      "metadata": {
        "id": "4Yobt6iJ-V-D",
        "colab_type": "code",
        "colab": {}
      },
      "source": [
        ""
      ],
      "execution_count": 0,
      "outputs": []
    }
  ]
}